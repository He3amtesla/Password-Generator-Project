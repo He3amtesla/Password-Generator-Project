{
 "cells": [
  {
   "cell_type": "markdown",
   "metadata": {},
   "source": [
    "- passwordgenerator\n",
    "  - abc\n",
    "- pin_password_generator\n",
    "- random_password_generator\n",
    "- memorable_password_generator\n"
   ]
  },
  {
   "cell_type": "code",
   "execution_count": 7,
   "metadata": {},
   "outputs": [
    {
     "name": "stderr",
     "output_type": "stream",
     "text": [
      "[nltk_data] Downloading package words to /home/he3am/nltk_data...\n",
      "[nltk_data]   Package words is already up-to-date!\n"
     ]
    },
    {
     "data": {
      "text/plain": [
       "True"
      ]
     },
     "execution_count": 7,
     "metadata": {},
     "output_type": "execute_result"
    }
   ],
   "source": [
    "from random import choice\n",
    "import string\n",
    "import nltk\n",
    "\n",
    "nltk.download(\"words\")"
   ]
  },
  {
   "cell_type": "code",
   "execution_count": 2,
   "metadata": {},
   "outputs": [],
   "source": [
    "from abc import ABC, abstractmethod\n",
    "\n",
    "\n",
    "class PasswordGenerator(ABC):   \n",
    "    @abstractmethod\n",
    "    def generator(self):\n",
    "        pass"
   ]
  },
  {
   "cell_type": "code",
   "execution_count": 3,
   "metadata": {},
   "outputs": [],
   "source": [
    "class PinPasswordGenerator(PasswordGenerator):\n",
    "    def __init__ (self, length_numbers: str): #جایی که آبجکت ساخته میشود.\n",
    "        self.length_numbers= length_numbers\n",
    "        \n",
    "    def generator(self) -> str:\n",
    "        return ''.join( [choice(string.digits) for _ in range(self.length_numbers)] )\n"
   ]
  },
  {
   "cell_type": "code",
   "execution_count": 4,
   "metadata": {},
   "outputs": [],
   "source": [
    "class RandomPasswordGenerator(PasswordGenerator):\n",
    "    def __init__ (self, length_numbers: int, upper: bool = False, lower: bool = False): #جایی که آبجکت ساخته میشود.\n",
    "        self.length_numbers= length_numbers\n",
    "        if upper:\n",
    "            self.ascii_letters = string.ascii_letters.upper()\n",
    "            self.punctuation = string.punctuation.upper()\n",
    "        elif lower:\n",
    "            self.ascii_letters = string.ascii_letters.lower()\n",
    "            self.punctuation = string.punctuation.lower()\n",
    "        else:\n",
    "           self.ascii_letters = string.ascii_letters\n",
    "           self.punctuation = string.punctuation\n",
    "    \n",
    "    def generator(self) -> str :\n",
    "        print(''.join( [choice(string.digits + self.ascii_letters + self.punctuation) for _ in range(self.length_numbers)] ))\n"
   ]
  },
  {
   "cell_type": "code",
   "execution_count": 5,
   "metadata": {},
   "outputs": [],
   "source": [
    "class RandomPasswordGenerator2(PasswordGenerator):\n",
    "    def __init__ (self, length_numbers: int, in_clude_numbers: bool = False, in_clude_symbol: bool = False): #جایی که آبجکت ساخته میشود.\n",
    "        self.length_numbers = length_numbers\n",
    "        self.charctors = string.ascii_letters\n",
    "        \n",
    "        if in_clude_numbers:\n",
    "            self.charctors += string.digits\n",
    "        if in_clude_symbol:\n",
    "            self.charctors += string.punctuation\n",
    "    \n",
    "    def generator(self) -> str:\n",
    "        return ''.join([choice(self.charctors) for _ in range(self.length_numbers)])"
   ]
  },
  {
   "cell_type": "code",
   "execution_count": 137,
   "metadata": {},
   "outputs": [],
   "source": [
    "list_words = nltk.corpus.words.words()\n",
    "class MemorablePasswordGenerator(PasswordGenerator):\n",
    "    def __init__(self, number_of_words: int = 4, separator_symbol: str = '-', capitalize: bool = None):\n",
    "        self.number_of_words = number_of_words\n",
    "        self.separator_symbol = separator_symbol\n",
    "        self.capitalize = capitalize\n",
    "        \n",
    "    def generator(self) -> str:\n",
    "        if self.capitalize:\n",
    "            return (self.separator_symbol.join([choice(list_words).upper() for _ in range(self.number_of_words)]))\n",
    "        \n",
    "        if self.capitalize == None:\n",
    "            #return (self.separator_symbol.join([choice([choice (list_words), choice(list_words).upper()]) for _ in range(self.number_of_words)]))\n",
    "            return (self.separator_symbol.join([choice(list_words).upper() if choice([True, False]) else choice(list_words).lower() for _ in range(self.number_of_words)]))\n",
    "        \n",
    "        return (self.separator_symbol.join([choice(list_words).lower() for _ in range(self.number_of_words)]))"
   ]
  },
  {
   "cell_type": "code",
   "execution_count": 145,
   "metadata": {},
   "outputs": [
    {
     "data": {
      "text/plain": [
       "'hint|PARTICIPIAL|infertile|bustling|FRAUDLESSNESS'"
      ]
     },
     "execution_count": 145,
     "metadata": {},
     "output_type": "execute_result"
    }
   ],
   "source": [
    "MPG = MemorablePasswordGenerator(number_of_words = 5, separator_symbol='|', capitalize= None)\n",
    "MPG.generator()"
   ]
  },
  {
   "cell_type": "code",
   "execution_count": 143,
   "metadata": {},
   "outputs": [
    {
     "data": {
      "text/plain": [
       "NoneType"
      ]
     },
     "execution_count": 143,
     "metadata": {},
     "output_type": "execute_result"
    }
   ],
   "source": [
    "type(None)"
   ]
  },
  {
   "cell_type": "code",
   "execution_count": null,
   "metadata": {},
   "outputs": [],
   "source": []
  }
 ],
 "metadata": {
  "kernelspec": {
   "display_name": "py310",
   "language": "python",
   "name": "python3"
  },
  "language_info": {
   "codemirror_mode": {
    "name": "ipython",
    "version": 3
   },
   "file_extension": ".py",
   "mimetype": "text/x-python",
   "name": "python",
   "nbconvert_exporter": "python",
   "pygments_lexer": "ipython3",
   "version": "3.10.15"
  }
 },
 "nbformat": 4,
 "nbformat_minor": 2
}
