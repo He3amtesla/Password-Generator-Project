{
 "cells": [
  {
   "cell_type": "markdown",
   "metadata": {},
   "source": [
    "- passwordgenerator\n",
    "  - abc\n",
    "- pin_password_generator\n",
    "- random_password_generator\n",
    "- memorable_password_generator\n"
   ]
  },
  {
   "cell_type": "code",
   "execution_count": 170,
   "metadata": {},
   "outputs": [],
   "source": [
    "from random import choice\n",
    "import string\n"
   ]
  },
  {
   "cell_type": "code",
   "execution_count": 92,
   "metadata": {},
   "outputs": [],
   "source": [
    "from abc import ABC, abstractmethod\n",
    "\n",
    "\n",
    "class PasswordGenerator(ABC):   \n",
    "    @abstractmethod\n",
    "    def generator(self):\n",
    "        pass"
   ]
  },
  {
   "cell_type": "code",
   "execution_count": 168,
   "metadata": {},
   "outputs": [],
   "source": [
    "class PinPasswordGenerator(PasswordGenerator):\n",
    "    def __init__ (self, length_numbers: str): #جایی که آبجکت ساخته میشود.\n",
    "        self.length_numbers= length_numbers\n",
    "        \n",
    "    def generator(self) -> str:\n",
    "        return ''.join( [choice(string.digits) for _ in range(self.length_numbers)] )\n"
   ]
  },
  {
   "cell_type": "code",
   "execution_count": 166,
   "metadata": {},
   "outputs": [],
   "source": [
    "class RandomPasswordGenerator(PasswordGenerator):\n",
    "    def __init__ (self, length_numbers: int, upper: bool = False, lower: bool = False): #جایی که آبجکت ساخته میشود.\n",
    "        self.length_numbers= length_numbers\n",
    "        if upper:\n",
    "            self.ascii_letters = string.ascii_letters.upper()\n",
    "            self.punctuation = string.punctuation.upper()\n",
    "        elif lower:\n",
    "            self.ascii_letters = string.ascii_letters.lower()\n",
    "            self.punctuation = string.punctuation.lower()\n",
    "        else:\n",
    "           self.ascii_letters = string.ascii_letters\n",
    "           self.punctuation = string.punctuation\n",
    "    \n",
    "    def generator(self) -> str :\n",
    "        print(''.join( [choice(string.digits + self.ascii_letters + self.punctuation) for _ in range(self.length_numbers)] ))\n"
   ]
  },
  {
   "cell_type": "code",
   "execution_count": 167,
   "metadata": {},
   "outputs": [],
   "source": [
    "class RandomPasswordGenerator2(PasswordGenerator):\n",
    "    def __init__ (self, length_numbers: int, in_clude_numbers: bool = False, in_clude_symbol: bool = False): #جایی که آبجکت ساخته میشود.\n",
    "        self.length_numbers = length_numbers\n",
    "        self.charctors = string.ascii_letters\n",
    "        \n",
    "        if in_clude_numbers:\n",
    "            self.charctors += string.digits\n",
    "        if in_clude_symbol:\n",
    "            self.charctors += string.punctuation\n",
    "    \n",
    "    def generator(self) -> str:\n",
    "        return ''.join([choice(self.charctors) for _ in range(self.length_numbers)])"
   ]
  },
  {
   "cell_type": "code",
   "execution_count": 158,
   "metadata": {},
   "outputs": [
    {
     "data": {
      "text/plain": [
       "\"KEf^&dT0:>QZ?=+`x}rO+_t$gY#uyd%&NXe$EkY0)0bC|uE/T'30Ad!\""
      ]
     },
     "execution_count": 158,
     "metadata": {},
     "output_type": "execute_result"
    }
   ],
   "source": [
    "RPG2 = RandomPasswordGenerator2(length_numbers= 55, in_clude_symbol= True, in_clude_numbers=True)\n",
    "RPG2.generator()"
   ]
  },
  {
   "cell_type": "code",
   "execution_count": 171,
   "metadata": {},
   "outputs": [
    {
     "name": "stdout",
     "output_type": "stream",
     "text": [
      "26wP_lPzV\\\n"
     ]
    }
   ],
   "source": [
    "randompass = RandomPasswordGenerator(10)\n",
    "randompass.generator()"
   ]
  },
  {
   "cell_type": "code",
   "execution_count": 163,
   "metadata": {},
   "outputs": [
    {
     "data": {
      "text/plain": [
       "'2393446169'"
      ]
     },
     "execution_count": 163,
     "metadata": {},
     "output_type": "execute_result"
    }
   ],
   "source": [
    "pincode = PinPasswordGenerator(length_numbers = 10)\n",
    "pincode.generator()"
   ]
  },
  {
   "cell_type": "code",
   "execution_count": 172,
   "metadata": {},
   "outputs": [
    {
     "name": "stdout",
     "output_type": "stream",
     "text": [
      "3\n"
     ]
    }
   ],
   "source": [
    "from random import choice\n",
    "list_numbers = \"0123456789\" # note لیست از کاراکتر = رشته\n",
    "print(choice(list_numbers))"
   ]
  },
  {
   "cell_type": "code",
   "execution_count": 77,
   "metadata": {},
   "outputs": [
    {
     "data": {
      "text/plain": [
       "'32982920'"
      ]
     },
     "execution_count": 77,
     "metadata": {},
     "output_type": "execute_result"
    }
   ],
   "source": [
    "import string\n",
    "''.join( [choice(string.digits) for _ in range(8)] )\n"
   ]
  },
  {
   "cell_type": "code",
   "execution_count": 174,
   "metadata": {},
   "outputs": [
    {
     "name": "stdout",
     "output_type": "stream",
     "text": [
      "7\n",
      "9\n",
      "8\n",
      "7\n",
      "8\n",
      "3\n",
      "1\n",
      "1\n"
     ]
    }
   ],
   "source": [
    "import string\n",
    "print('\\n'.join( [choice(string.digits) for _ in range(8)] ))\n"
   ]
  },
  {
   "cell_type": "code",
   "execution_count": 56,
   "metadata": {},
   "outputs": [
    {
     "name": "stdout",
     "output_type": "stream",
     "text": [
      "0\n",
      "1\n",
      "2\n",
      "3\n",
      "4\n",
      "5\n",
      "6\n",
      "7\n"
     ]
    }
   ],
   "source": [
    "for i in range(8):\n",
    "    print(i)"
   ]
  },
  {
   "cell_type": "code",
   "execution_count": 73,
   "metadata": {},
   "outputs": [
    {
     "name": "stdout",
     "output_type": "stream",
     "text": [
      "Line 1\n",
      "Line 2\n",
      "Line 3\n"
     ]
    }
   ],
   "source": [
    "lines = ['Line 1', 'Line 2', 'Line 3']\n",
    "result = '\\n'.join(lines)\n",
    "print(result)"
   ]
  },
  {
   "cell_type": "code",
   "execution_count": 90,
   "metadata": {},
   "outputs": [
    {
     "data": {
      "text/plain": [
       "'abcdefghijklmnopqrstuvwxyzABCDEFGHIJKLMNOPQRSTUVWXYZ'"
      ]
     },
     "execution_count": 90,
     "metadata": {},
     "output_type": "execute_result"
    }
   ],
   "source": [
    "string.ascii_letters"
   ]
  },
  {
   "cell_type": "code",
   "execution_count": 91,
   "metadata": {},
   "outputs": [
    {
     "data": {
      "text/plain": [
       "'!\"#$%&\\'()*+,-./:;<=>?@[\\\\]^_`{|}~'"
      ]
     },
     "execution_count": 91,
     "metadata": {},
     "output_type": "execute_result"
    }
   ],
   "source": [
    "string.punctuation"
   ]
  },
  {
   "cell_type": "code",
   "execution_count": 109,
   "metadata": {},
   "outputs": [
    {
     "data": {
      "text/plain": [
       "'14903340'"
      ]
     },
     "execution_count": 109,
     "metadata": {},
     "output_type": "execute_result"
    }
   ],
   "source": [
    "''.join( [choice(string.digits + \"\" + \"\") for _ in range(8)] )\n"
   ]
  },
  {
   "cell_type": "code",
   "execution_count": null,
   "metadata": {},
   "outputs": [],
   "source": []
  }
 ],
 "metadata": {
  "kernelspec": {
   "display_name": "py310",
   "language": "python",
   "name": "python3"
  },
  "language_info": {
   "codemirror_mode": {
    "name": "ipython",
    "version": 3
   },
   "file_extension": ".py",
   "mimetype": "text/x-python",
   "name": "python",
   "nbconvert_exporter": "python",
   "pygments_lexer": "ipython3",
   "version": "3.10.15"
  }
 },
 "nbformat": 4,
 "nbformat_minor": 2
}
