{
 "cells": [
  {
   "cell_type": "code",
   "execution_count": 2,
   "metadata": {},
   "outputs": [
    {
     "name": "stderr",
     "output_type": "stream",
     "text": [
      "[nltk_data] Downloading package words to /home/he3am/nltk_data...\n",
      "[nltk_data]   Package words is already up-to-date!\n"
     ]
    },
    {
     "data": {
      "text/plain": [
       "True"
      ]
     },
     "execution_count": 2,
     "metadata": {},
     "output_type": "execute_result"
    }
   ],
   "source": [
    "import string\n",
    "from abc import ABC, abstractmethod\n",
    "from random import choice\n",
    "\n",
    "import nltk\n",
    "\n",
    "nltk.download(\"words\")\n"
   ]
  },
  {
   "cell_type": "code",
   "execution_count": 10,
   "metadata": {},
   "outputs": [
    {
     "data": {
      "text/plain": [
       "'6758'"
      ]
     },
     "execution_count": 10,
     "metadata": {},
     "output_type": "execute_result"
    }
   ],
   "source": [
    "def pin_password_generator(lengh_numbers):\n",
    "    return (''.join(choice(string.digits) for _ in range(lengh_numbers)))\n",
    "\n",
    "#pin_password_generator(4)"
   ]
  },
  {
   "cell_type": "code",
   "execution_count": 17,
   "metadata": {},
   "outputs": [
    {
     "data": {
      "text/plain": [
       "'\\\\M$=]%\\\\PA&'"
      ]
     },
     "execution_count": 17,
     "metadata": {},
     "output_type": "execute_result"
    }
   ],
   "source": [
    "def random_password_generator(length_numbers: int, upper: bool = False, lower: bool = False) -> str:\n",
    "    if upper:\n",
    "        ascii_letters = string.ascii_letters.upper()\n",
    "    elif lower:\n",
    "        ascii_letters = string.ascii_letters.lower()\n",
    "    else:\n",
    "        ascii_letters = string.ascii_letters\n",
    "        \n",
    "    return ''.join([choice(string.digits + ascii_letters + string.punctuation) for _ in range(length_numbers)])\n",
    "\n",
    "#random_password_generator(10, upper= True)"
   ]
  },
  {
   "cell_type": "code",
   "execution_count": 3,
   "metadata": {},
   "outputs": [
    {
     "data": {
      "text/plain": [
       "'d2zs\\\\'"
      ]
     },
     "execution_count": 3,
     "metadata": {},
     "output_type": "execute_result"
    }
   ],
   "source": [
    "def random_password_generator2(length_numbers: int, in_clude_numbers: bool = False, in_clude_symbol: bool = False) -> str:\n",
    "    charctors = string.ascii_letters\n",
    "    \n",
    "    if in_clude_numbers:\n",
    "        charctors += string.digits\n",
    "    if in_clude_symbol:\n",
    "        charctors += string.punctuation\n",
    "    \n",
    "    return \"\".join([choice(charctors) for _ in range(length_numbers)])\n",
    "\n",
    "#random_password_generator2(length_numbers = 5, in_clude_symbol = True, in_clude_numbers = True)      "
   ]
  },
  {
   "cell_type": "code",
   "execution_count": null,
   "metadata": {},
   "outputs": [
    {
     "data": {
      "text/plain": [
       "'melilite||PREDACITY||GALLATURE||catechumenically||laudably||alemannic'"
      ]
     },
     "execution_count": 37,
     "metadata": {},
     "output_type": "execute_result"
    }
   ],
   "source": [
    "def memorable_password_generator(number_of_words: int = 4, separator_symbol: str = '-', capitalize: bool = None):\n",
    "    list_words = nltk.corpus.words.words()\n",
    "    \n",
    "    if capitalize:\n",
    "        return (separator_symbol.join([choice(list_words).upper() for _ in range(number_of_words)]))\n",
    "        \n",
    "    if capitalize == None:\n",
    "        return (separator_symbol.join([choice(list_words).upper() if choice([True, False]) else choice(list_words).lower() for _ in range(number_of_words)]))\n",
    "        \n",
    "    return (separator_symbol.join([choice(list_words).lower() for _ in range(number_of_words)]))\n",
    "\n",
    "#memorable_password_generator(number_of_words = 6, separator_symbol = '||')"
   ]
  }
 ],
 "metadata": {
  "kernelspec": {
   "display_name": "py310",
   "language": "python",
   "name": "python3"
  },
  "language_info": {
   "codemirror_mode": {
    "name": "ipython",
    "version": 3
   },
   "file_extension": ".py",
   "mimetype": "text/x-python",
   "name": "python",
   "nbconvert_exporter": "python",
   "pygments_lexer": "ipython3",
   "version": "3.10.15"
  }
 },
 "nbformat": 4,
 "nbformat_minor": 2
}
